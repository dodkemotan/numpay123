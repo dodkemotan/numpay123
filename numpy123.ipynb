{
 "cells": [
  {
   "cell_type": "markdown",
   "id": "aac5fbab",
   "metadata": {},
   "source": [
    "# numpy"
   ]
  },
  {
   "cell_type": "code",
   "execution_count": 4,
   "id": "bdfd28f6",
   "metadata": {},
   "outputs": [],
   "source": [
    "#Numpy is numerical python"
   ]
  },
  {
   "cell_type": "code",
   "execution_count": 5,
   "id": "fd7b356a",
   "metadata": {},
   "outputs": [],
   "source": [
    "\n",
    "import numpy as np"
   ]
  },
  {
   "cell_type": "markdown",
   "id": "92d37b83",
   "metadata": {},
   "source": [
    "# Numpy function"
   ]
  },
  {
   "cell_type": "code",
   "execution_count": 6,
   "id": "11847e14",
   "metadata": {},
   "outputs": [],
   "source": [
    "\n",
    "A1 = np.array([[11,12,13],[14,15,16]])"
   ]
  },
  {
   "cell_type": "code",
   "execution_count": 7,
   "id": "c466d285",
   "metadata": {},
   "outputs": [
    {
     "data": {
      "text/plain": [
       "array([[11, 12, 13],\n",
       "       [14, 15, 16]])"
      ]
     },
     "execution_count": 7,
     "metadata": {},
     "output_type": "execute_result"
    }
   ],
   "source": [
    "A1"
   ]
  },
  {
   "cell_type": "code",
   "execution_count": 8,
   "id": "8be881f2",
   "metadata": {},
   "outputs": [],
   "source": [
    "A2 = np.zeros((15,16), dtype = int)"
   ]
  },
  {
   "cell_type": "code",
   "execution_count": 9,
   "id": "2ee25f3c",
   "metadata": {},
   "outputs": [
    {
     "data": {
      "text/plain": [
       "array([[0, 0, 0, 0, 0, 0, 0, 0, 0, 0, 0, 0, 0, 0, 0, 0],\n",
       "       [0, 0, 0, 0, 0, 0, 0, 0, 0, 0, 0, 0, 0, 0, 0, 0],\n",
       "       [0, 0, 0, 0, 0, 0, 0, 0, 0, 0, 0, 0, 0, 0, 0, 0],\n",
       "       [0, 0, 0, 0, 0, 0, 0, 0, 0, 0, 0, 0, 0, 0, 0, 0],\n",
       "       [0, 0, 0, 0, 0, 0, 0, 0, 0, 0, 0, 0, 0, 0, 0, 0],\n",
       "       [0, 0, 0, 0, 0, 0, 0, 0, 0, 0, 0, 0, 0, 0, 0, 0],\n",
       "       [0, 0, 0, 0, 0, 0, 0, 0, 0, 0, 0, 0, 0, 0, 0, 0],\n",
       "       [0, 0, 0, 0, 0, 0, 0, 0, 0, 0, 0, 0, 0, 0, 0, 0],\n",
       "       [0, 0, 0, 0, 0, 0, 0, 0, 0, 0, 0, 0, 0, 0, 0, 0],\n",
       "       [0, 0, 0, 0, 0, 0, 0, 0, 0, 0, 0, 0, 0, 0, 0, 0],\n",
       "       [0, 0, 0, 0, 0, 0, 0, 0, 0, 0, 0, 0, 0, 0, 0, 0],\n",
       "       [0, 0, 0, 0, 0, 0, 0, 0, 0, 0, 0, 0, 0, 0, 0, 0],\n",
       "       [0, 0, 0, 0, 0, 0, 0, 0, 0, 0, 0, 0, 0, 0, 0, 0],\n",
       "       [0, 0, 0, 0, 0, 0, 0, 0, 0, 0, 0, 0, 0, 0, 0, 0],\n",
       "       [0, 0, 0, 0, 0, 0, 0, 0, 0, 0, 0, 0, 0, 0, 0, 0]])"
      ]
     },
     "execution_count": 9,
     "metadata": {},
     "output_type": "execute_result"
    }
   ],
   "source": [
    "A2"
   ]
  },
  {
   "cell_type": "code",
   "execution_count": 10,
   "id": "d34a103e",
   "metadata": {},
   "outputs": [],
   "source": [
    "\n",
    "A3 = np.arange(2,10,2)"
   ]
  },
  {
   "cell_type": "code",
   "execution_count": 11,
   "id": "83f9d7b1",
   "metadata": {},
   "outputs": [
    {
     "data": {
      "text/plain": [
       "array([2, 4, 6, 8])"
      ]
     },
     "execution_count": 11,
     "metadata": {},
     "output_type": "execute_result"
    }
   ],
   "source": [
    "A3"
   ]
  },
  {
   "cell_type": "code",
   "execution_count": 12,
   "id": "34ec0750",
   "metadata": {},
   "outputs": [],
   "source": [
    "\n",
    "A4 = np.ones((13,14) , dtype = int)"
   ]
  },
  {
   "cell_type": "code",
   "execution_count": 13,
   "id": "5b593f68",
   "metadata": {},
   "outputs": [
    {
     "data": {
      "text/plain": [
       "array([[1, 1, 1, 1, 1, 1, 1, 1, 1, 1, 1, 1, 1, 1],\n",
       "       [1, 1, 1, 1, 1, 1, 1, 1, 1, 1, 1, 1, 1, 1],\n",
       "       [1, 1, 1, 1, 1, 1, 1, 1, 1, 1, 1, 1, 1, 1],\n",
       "       [1, 1, 1, 1, 1, 1, 1, 1, 1, 1, 1, 1, 1, 1],\n",
       "       [1, 1, 1, 1, 1, 1, 1, 1, 1, 1, 1, 1, 1, 1],\n",
       "       [1, 1, 1, 1, 1, 1, 1, 1, 1, 1, 1, 1, 1, 1],\n",
       "       [1, 1, 1, 1, 1, 1, 1, 1, 1, 1, 1, 1, 1, 1],\n",
       "       [1, 1, 1, 1, 1, 1, 1, 1, 1, 1, 1, 1, 1, 1],\n",
       "       [1, 1, 1, 1, 1, 1, 1, 1, 1, 1, 1, 1, 1, 1],\n",
       "       [1, 1, 1, 1, 1, 1, 1, 1, 1, 1, 1, 1, 1, 1],\n",
       "       [1, 1, 1, 1, 1, 1, 1, 1, 1, 1, 1, 1, 1, 1],\n",
       "       [1, 1, 1, 1, 1, 1, 1, 1, 1, 1, 1, 1, 1, 1],\n",
       "       [1, 1, 1, 1, 1, 1, 1, 1, 1, 1, 1, 1, 1, 1]])"
      ]
     },
     "execution_count": 13,
     "metadata": {},
     "output_type": "execute_result"
    }
   ],
   "source": [
    "A4"
   ]
  },
  {
   "cell_type": "code",
   "execution_count": 15,
   "id": "69ddc1c6",
   "metadata": {},
   "outputs": [],
   "source": [
    "A5 = np.linspace(10,30,3)"
   ]
  },
  {
   "cell_type": "code",
   "execution_count": 16,
   "id": "ee92796d",
   "metadata": {},
   "outputs": [
    {
     "data": {
      "text/plain": [
       "array([10., 20., 30.])"
      ]
     },
     "execution_count": 16,
     "metadata": {},
     "output_type": "execute_result"
    }
   ],
   "source": [
    "A5"
   ]
  },
  {
   "cell_type": "code",
   "execution_count": 17,
   "id": "ac77e018",
   "metadata": {},
   "outputs": [],
   "source": [
    "A6 = np.random.randint(0,15,size=(13,14))"
   ]
  },
  {
   "cell_type": "code",
   "execution_count": 18,
   "id": "655b697c",
   "metadata": {},
   "outputs": [
    {
     "data": {
      "text/plain": [
       "array([[ 0, 14,  8, 10,  2,  6, 10,  2, 11, 14,  3,  0, 10,  3],\n",
       "       [11,  1, 10,  4,  7,  8, 12,  3, 12,  3,  8,  3, 13,  6],\n",
       "       [ 3,  1,  2, 12,  8, 14, 13, 14, 14, 11,  6,  7, 14, 11],\n",
       "       [ 2, 13,  6,  6, 12, 14,  6,  2, 14,  4, 14,  2,  4, 14],\n",
       "       [ 6,  0, 10,  0,  7,  8,  9, 13,  3, 10,  7,  2,  4,  4],\n",
       "       [ 9,  7,  7, 14, 12,  1,  2,  2, 14,  5, 14,  3,  1,  6],\n",
       "       [ 5,  9,  0, 12,  8,  8,  4,  4,  3,  0, 14,  5,  4,  6],\n",
       "       [14,  0,  8, 13,  4,  3, 11, 14,  4,  5,  2,  7,  6,  4],\n",
       "       [ 5, 11,  7, 12, 14,  6,  2,  1, 12,  0,  3,  5, 11,  6],\n",
       "       [ 3, 11, 11, 12, 13, 12,  6,  7,  7, 12,  0, 10,  9,  2],\n",
       "       [ 4,  3,  3, 14,  7, 13,  5, 10,  2,  2,  8,  0, 12, 14],\n",
       "       [14,  5,  6,  0,  2,  6, 12, 14,  9,  8,  9,  3,  5,  0],\n",
       "       [ 1,  9, 11, 11, 12, 13,  4,  5,  2, 13,  1, 10,  5, 10]])"
      ]
     },
     "execution_count": 18,
     "metadata": {},
     "output_type": "execute_result"
    }
   ],
   "source": [
    "A6"
   ]
  },
  {
   "cell_type": "code",
   "execution_count": 19,
   "id": "5d1a6df8",
   "metadata": {},
   "outputs": [],
   "source": [
    "A7 = np.full((2,2,2),14)"
   ]
  },
  {
   "cell_type": "code",
   "execution_count": 20,
   "id": "4d2e517c",
   "metadata": {},
   "outputs": [
    {
     "data": {
      "text/plain": [
       "array([[[14, 14],\n",
       "        [14, 14]],\n",
       "\n",
       "       [[14, 14],\n",
       "        [14, 14]]])"
      ]
     },
     "execution_count": 20,
     "metadata": {},
     "output_type": "execute_result"
    }
   ],
   "source": [
    "A7"
   ]
  },
  {
   "cell_type": "code",
   "execution_count": 22,
   "id": "be6d535b",
   "metadata": {},
   "outputs": [],
   "source": [
    "A8 = np.identity(14)"
   ]
  },
  {
   "cell_type": "code",
   "execution_count": 23,
   "id": "969847f3",
   "metadata": {},
   "outputs": [
    {
     "data": {
      "text/plain": [
       "array([[1., 0., 0., 0., 0., 0., 0., 0., 0., 0., 0., 0., 0., 0.],\n",
       "       [0., 1., 0., 0., 0., 0., 0., 0., 0., 0., 0., 0., 0., 0.],\n",
       "       [0., 0., 1., 0., 0., 0., 0., 0., 0., 0., 0., 0., 0., 0.],\n",
       "       [0., 0., 0., 1., 0., 0., 0., 0., 0., 0., 0., 0., 0., 0.],\n",
       "       [0., 0., 0., 0., 1., 0., 0., 0., 0., 0., 0., 0., 0., 0.],\n",
       "       [0., 0., 0., 0., 0., 1., 0., 0., 0., 0., 0., 0., 0., 0.],\n",
       "       [0., 0., 0., 0., 0., 0., 1., 0., 0., 0., 0., 0., 0., 0.],\n",
       "       [0., 0., 0., 0., 0., 0., 0., 1., 0., 0., 0., 0., 0., 0.],\n",
       "       [0., 0., 0., 0., 0., 0., 0., 0., 1., 0., 0., 0., 0., 0.],\n",
       "       [0., 0., 0., 0., 0., 0., 0., 0., 0., 1., 0., 0., 0., 0.],\n",
       "       [0., 0., 0., 0., 0., 0., 0., 0., 0., 0., 1., 0., 0., 0.],\n",
       "       [0., 0., 0., 0., 0., 0., 0., 0., 0., 0., 0., 1., 0., 0.],\n",
       "       [0., 0., 0., 0., 0., 0., 0., 0., 0., 0., 0., 0., 1., 0.],\n",
       "       [0., 0., 0., 0., 0., 0., 0., 0., 0., 0., 0., 0., 0., 1.]])"
      ]
     },
     "execution_count": 23,
     "metadata": {},
     "output_type": "execute_result"
    }
   ],
   "source": [
    "A8"
   ]
  },
  {
   "cell_type": "code",
   "execution_count": 24,
   "id": "67fe0e20",
   "metadata": {},
   "outputs": [],
   "source": [
    "list = [11,12,13,14,15]\n",
    "A9 = np.asarray(list)"
   ]
  },
  {
   "cell_type": "code",
   "execution_count": 25,
   "id": "846de7ce",
   "metadata": {},
   "outputs": [
    {
     "data": {
      "text/plain": [
       "array([11, 12, 13, 14, 15])"
      ]
     },
     "execution_count": 25,
     "metadata": {},
     "output_type": "execute_result"
    }
   ],
   "source": [
    "A9"
   ]
  },
  {
   "cell_type": "code",
   "execution_count": 28,
   "id": "26fa177c",
   "metadata": {},
   "outputs": [],
   "source": [
    "a = (15,10)\n",
    "b = (15,12)"
   ]
  },
  {
   "cell_type": "code",
   "execution_count": 29,
   "id": "1a04a4c0",
   "metadata": {},
   "outputs": [
    {
     "data": {
      "text/plain": [
       "array([1.        , 0.83333333])"
      ]
     },
     "execution_count": 29,
     "metadata": {},
     "output_type": "execute_result"
    }
   ],
   "source": [
    "np.divide(a,b)"
   ]
  },
  {
   "cell_type": "code",
   "execution_count": 30,
   "id": "ec00fc9a",
   "metadata": {},
   "outputs": [],
   "source": [
    "\n",
    "divide =np.divide(10,5)"
   ]
  },
  {
   "cell_type": "code",
   "execution_count": 31,
   "id": "67450f2c",
   "metadata": {},
   "outputs": [
    {
     "data": {
      "text/plain": [
       "2.0"
      ]
     },
     "execution_count": 31,
     "metadata": {},
     "output_type": "execute_result"
    }
   ],
   "source": [
    "divide"
   ]
  },
  {
   "cell_type": "code",
   "execution_count": 32,
   "id": "8b9027dc",
   "metadata": {},
   "outputs": [],
   "source": [
    "mul =np.multiply(10,5)"
   ]
  },
  {
   "cell_type": "code",
   "execution_count": 33,
   "id": "43bc94cb",
   "metadata": {},
   "outputs": [
    {
     "data": {
      "text/plain": [
       "50"
      ]
     },
     "execution_count": 33,
     "metadata": {},
     "output_type": "execute_result"
    }
   ],
   "source": [
    "mul"
   ]
  },
  {
   "cell_type": "markdown",
   "id": "556b9b36",
   "metadata": {},
   "source": [
    "# aggregation operation"
   ]
  },
  {
   "cell_type": "code",
   "execution_count": 34,
   "id": "b2958f63",
   "metadata": {},
   "outputs": [],
   "source": [
    "data = np.random.randint(1,10,(2,4))"
   ]
  },
  {
   "cell_type": "code",
   "execution_count": 35,
   "id": "d423bf84",
   "metadata": {},
   "outputs": [
    {
     "data": {
      "text/plain": [
       "array([[1, 3, 3, 1],\n",
       "       [6, 1, 1, 2]])"
      ]
     },
     "execution_count": 35,
     "metadata": {},
     "output_type": "execute_result"
    }
   ],
   "source": [
    "data"
   ]
  },
  {
   "cell_type": "code",
   "execution_count": 36,
   "id": "537a2b09",
   "metadata": {},
   "outputs": [
    {
     "name": "stdout",
     "output_type": "stream",
     "text": [
      "18\n",
      "[7 4 4 3]\n",
      "[ 8 10]\n"
     ]
    }
   ],
   "source": [
    "#sum\n",
    "print(np.sum(data))\n",
    "print(np.sum(data,axis=0))\n",
    "print(np.sum(data,axis=1))"
   ]
  },
  {
   "cell_type": "code",
   "execution_count": 37,
   "id": "c4bbc636",
   "metadata": {},
   "outputs": [
    {
     "data": {
      "text/plain": [
       "6"
      ]
     },
     "execution_count": 37,
     "metadata": {},
     "output_type": "execute_result"
    }
   ],
   "source": [
    "data.max()"
   ]
  },
  {
   "cell_type": "code",
   "execution_count": 38,
   "id": "4a4dc020",
   "metadata": {},
   "outputs": [
    {
     "data": {
      "text/plain": [
       "1"
      ]
     },
     "execution_count": 38,
     "metadata": {},
     "output_type": "execute_result"
    }
   ],
   "source": [
    "\n",
    "data.min()"
   ]
  },
  {
   "cell_type": "markdown",
   "id": "8b1efbfa",
   "metadata": {},
   "source": [
    "# numpy array attributes"
   ]
  },
  {
   "cell_type": "code",
   "execution_count": 39,
   "id": "4d487095",
   "metadata": {},
   "outputs": [
    {
     "name": "stdout",
     "output_type": "stream",
     "text": [
      "(2, 3)\n"
     ]
    }
   ],
   "source": [
    "a1 =np.array([[11,12,13],[14,15,16]])\n",
    "print(a1.shape)"
   ]
  },
  {
   "cell_type": "code",
   "execution_count": 40,
   "id": "17b71836",
   "metadata": {},
   "outputs": [
    {
     "name": "stdout",
     "output_type": "stream",
     "text": [
      "the dimension of a2: 2\n"
     ]
    }
   ],
   "source": [
    "a2 = np.array([[1,2,3],[4,5,6]])\n",
    "print(f\"the dimension of a2:\",a2.ndim)"
   ]
  },
  {
   "cell_type": "code",
   "execution_count": 41,
   "id": "a985a51b",
   "metadata": {},
   "outputs": [
    {
     "name": "stdout",
     "output_type": "stream",
     "text": [
      "elments in a3 = 6\n"
     ]
    }
   ],
   "source": [
    "a3 = np.array([[11,12,13],[14,15,16]])\n",
    "print(f\"elments in a3 = {a3.size}\")"
   ]
  },
  {
   "cell_type": "code",
   "execution_count": 42,
   "id": "686014b5",
   "metadata": {},
   "outputs": [
    {
     "name": "stdout",
     "output_type": "stream",
     "text": [
      "int32\n"
     ]
    }
   ],
   "source": [
    "a5 = np.array([1,2,3])\n",
    "print(a5.dtype)"
   ]
  },
  {
   "cell_type": "markdown",
   "id": "ad07725b",
   "metadata": {},
   "source": [
    "# array maniupulation"
   ]
  },
  {
   "cell_type": "code",
   "execution_count": 43,
   "id": "f50ab787",
   "metadata": {},
   "outputs": [
    {
     "data": {
      "text/plain": [
       "array([[3, 1, 2],\n",
       "       [5, 2, 3],\n",
       "       [1, 4, 4],\n",
       "       [3, 4, 3],\n",
       "       [5, 2, 2],\n",
       "       [5, 2, 2]])"
      ]
     },
     "execution_count": 43,
     "metadata": {},
     "output_type": "execute_result"
    }
   ],
   "source": [
    "a6 = np.array(np.random.randint(1,6,(6,3)))\n",
    "a6"
   ]
  },
  {
   "cell_type": "code",
   "execution_count": 44,
   "id": "062f736f",
   "metadata": {},
   "outputs": [],
   "source": [
    "transpose_array = np.transpose(a6)"
   ]
  },
  {
   "cell_type": "code",
   "execution_count": 45,
   "id": "bc087529",
   "metadata": {},
   "outputs": [
    {
     "data": {
      "text/plain": [
       "array([[3, 5, 1, 3, 5, 5],\n",
       "       [1, 2, 4, 4, 2, 2],\n",
       "       [2, 3, 4, 3, 2, 2]])"
      ]
     },
     "execution_count": 45,
     "metadata": {},
     "output_type": "execute_result"
    }
   ],
   "source": [
    "transpose_array "
   ]
  },
  {
   "cell_type": "code",
   "execution_count": 46,
   "id": "6a5305b3",
   "metadata": {},
   "outputs": [],
   "source": [
    "\n",
    "a7 = np.array(np.random.randint(1,6,(6,3)))"
   ]
  },
  {
   "cell_type": "code",
   "execution_count": 47,
   "id": "255275ba",
   "metadata": {},
   "outputs": [
    {
     "data": {
      "text/plain": [
       "array([[5, 3, 1],\n",
       "       [5, 3, 1],\n",
       "       [4, 1, 4],\n",
       "       [4, 1, 2],\n",
       "       [3, 1, 3],\n",
       "       [1, 1, 4]])"
      ]
     },
     "execution_count": 47,
     "metadata": {},
     "output_type": "execute_result"
    }
   ],
   "source": [
    "a7"
   ]
  },
  {
   "cell_type": "code",
   "execution_count": 48,
   "id": "d53c3a72",
   "metadata": {},
   "outputs": [
    {
     "data": {
      "text/plain": [
       "array([[2, 4],\n",
       "       [2, 5],\n",
       "       [5, 1],\n",
       "       [2, 5],\n",
       "       [5, 5],\n",
       "       [5, 1]])"
      ]
     },
     "execution_count": 48,
     "metadata": {},
     "output_type": "execute_result"
    }
   ],
   "source": [
    "a7 = np.array(np.random.randint(1,6,(6,2)))\n",
    "a7"
   ]
  },
  {
   "cell_type": "code",
   "execution_count": 49,
   "id": "cc71d0e9",
   "metadata": {},
   "outputs": [
    {
     "data": {
      "text/plain": [
       "array([2, 4, 2, 5, 5, 1, 2, 5, 5, 5, 5, 1])"
      ]
     },
     "execution_count": 49,
     "metadata": {},
     "output_type": "execute_result"
    }
   ],
   "source": [
    "\n",
    "a7.flatten()"
   ]
  },
  {
   "cell_type": "code",
   "execution_count": null,
   "id": "db048858",
   "metadata": {},
   "outputs": [],
   "source": []
  }
 ],
 "metadata": {
  "kernelspec": {
   "display_name": "Python 3 (ipykernel)",
   "language": "python",
   "name": "python3"
  },
  "language_info": {
   "codemirror_mode": {
    "name": "ipython",
    "version": 3
   },
   "file_extension": ".py",
   "mimetype": "text/x-python",
   "name": "python",
   "nbconvert_exporter": "python",
   "pygments_lexer": "ipython3",
   "version": "3.11.5"
  }
 },
 "nbformat": 4,
 "nbformat_minor": 5
}
